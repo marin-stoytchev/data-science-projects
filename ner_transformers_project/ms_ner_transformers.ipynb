{
 "cells": [
  {
   "cell_type": "code",
   "execution_count": 1,
   "metadata": {},
   "outputs": [],
   "source": [
    "# Named Entity Recognition (ner) using Transformers developed by Hugging Face, Inc.\n",
    "# Note: Transformers were installed with 'python -m pip install transformers' in pytorch environment (pytorchenv active)"
   ]
  },
  {
   "cell_type": "code",
   "execution_count": 2,
   "metadata": {},
   "outputs": [],
   "source": [
    "# import necessary transformers classes and torch\n",
    "\n",
    "from transformers import AutoModelForTokenClassification, AutoTokenizer\n",
    "import torch"
   ]
  },
  {
   "cell_type": "code",
   "execution_count": 3,
   "metadata": {},
   "outputs": [],
   "source": [
    "# instantiate pretrained tokenizer and model\n",
    "\n",
    "# uses fine-tuned model on CoNLL-2003, fine-tuned by @stefan-it from dbmdz\n",
    "model = AutoModelForTokenClassification.from_pretrained(\"dbmdz/bert-large-cased-finetuned-conll03-english\")\n",
    "tokenizer = AutoTokenizer.from_pretrained(\"bert-base-cased\")"
   ]
  },
  {
   "cell_type": "code",
   "execution_count": 4,
   "metadata": {},
   "outputs": [],
   "source": [
    "# define the label list with which the model was trained on\n",
    "\n",
    "label_list = [\n",
    "    \"O\",       # Outside of a named entity\n",
    "    \"B-MISC\",  # Beginning of a miscellaneous entity right after another miscellaneous entity\n",
    "    \"I-MISC\",  # Miscellaneous entity\n",
    "    \"B-PER\",   # Beginning of a person's name right after another person's name\n",
    "    \"I-PER\",   # Person's name\n",
    "    \"B-ORG\",   # Beginning of an organisation right after another organisation\n",
    "    \"I-ORG\",   # Organisation\n",
    "    \"B-LOC\",   # Beginning of a location right after another location\n",
    "    \"I-LOC\"    # Location\n",
    "]"
   ]
  },
  {
   "cell_type": "code",
   "execution_count": 5,
   "metadata": {},
   "outputs": [],
   "source": [
    "# define a sequence with named entities\n",
    "\n",
    "sequence = \"Google was founded in September 1998 by Larry Page and Sergey Brin while \" \\\n",
    "           \"they were Ph.D. students at Stanford University in California.\""
   ]
  },
  {
   "cell_type": "code",
   "execution_count": 6,
   "metadata": {},
   "outputs": [],
   "source": [
    "# split words into tokens so that they can be mapped to the predictions\n",
    "tokens = tokenizer.tokenize(tokenizer.decode(tokenizer.encode(sequence)))\n",
    "\n",
    "# encode that sequence into IDs\n",
    "inputs = tokenizer.encode(sequence, return_tensors = \"pt\")"
   ]
  },
  {
   "cell_type": "code",
   "execution_count": 7,
   "metadata": {},
   "outputs": [],
   "source": [
    "# retrieve the predictions by passing the input to the model\n",
    "\n",
    "outputs = model(inputs)[0]\n",
    "predictions = torch.argmax(outputs, dim = 2)"
   ]
  },
  {
   "cell_type": "code",
   "execution_count": 8,
   "metadata": {},
   "outputs": [
    {
     "name": "stdout",
     "output_type": "stream",
     "text": [
      "[('[CLS]', 'O'), ('Google', 'I-ORG'), ('was', 'O'), ('founded', 'O'), ('in', 'O'), ('September', 'O'), ('1998', 'O'), ('by', 'O'), ('Larry', 'I-PER'), ('Page', 'I-PER'), ('and', 'O'), ('Sergey', 'I-PER'), ('B', 'I-PER'), ('##rin', 'I-PER'), ('while', 'O'), ('they', 'O'), ('were', 'O'), ('Ph', 'O'), ('.', 'O'), ('D', 'O'), ('.', 'O'), ('students', 'O'), ('at', 'O'), ('Stanford', 'I-ORG'), ('University', 'I-ORG'), ('in', 'O'), ('California', 'I-LOC'), ('.', 'O'), ('[SEP]', 'O')]\n"
     ]
    }
   ],
   "source": [
    "# zip together each token with its prediction and print it\n",
    "\n",
    "print([(token, label_list[prediction]) for token, prediction in zip(tokens, predictions[0].tolist())])"
   ]
  },
  {
   "cell_type": "code",
   "execution_count": 9,
   "metadata": {},
   "outputs": [
    {
     "name": "stdout",
     "output_type": "stream",
     "text": [
      "[('Google', 'I-ORG'), ('Larry', 'I-PER'), ('Page', 'I-PER'), ('Sergey', 'I-PER'), ('B', 'I-PER'), ('##rin', 'I-PER'), ('Stanford', 'I-ORG'), ('University', 'I-ORG'), ('California', 'I-LOC')]\n"
     ]
    }
   ],
   "source": [
    "# print only predictions for Person, Organization and Location --> label in [\"I-PER\", \"I-ORG\", \"I-LOC\"]\n",
    "\n",
    "print([(token, label_list[prediction]) for token, prediction in zip(tokens, predictions[0].tolist()) \n",
    "       if prediction in [4, 6, 8]])"
   ]
  },
  {
   "cell_type": "code",
   "execution_count": 10,
   "metadata": {},
   "outputs": [],
   "source": [
    "# All named entities have been accurately recognized"
   ]
  }
 ],
 "metadata": {
  "kernelspec": {
   "display_name": "Python 3",
   "language": "python",
   "name": "python3"
  },
  "language_info": {
   "codemirror_mode": {
    "name": "ipython",
    "version": 3
   },
   "file_extension": ".py",
   "mimetype": "text/x-python",
   "name": "python",
   "nbconvert_exporter": "python",
   "pygments_lexer": "ipython3",
   "version": "3.7.3"
  }
 },
 "nbformat": 4,
 "nbformat_minor": 4
}
